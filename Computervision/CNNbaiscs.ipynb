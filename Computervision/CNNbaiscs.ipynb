{
  "nbformat": 4,
  "nbformat_minor": 0,
  "metadata": {
    "colab": {
      "name": "CNNbaiscs.ipynb",
      "provenance": [],
      "collapsed_sections": []
    },
    "kernelspec": {
      "name": "python3",
      "display_name": "Python 3"
    }
  },
  "cells": [
    {
      "cell_type": "markdown",
      "metadata": {
        "id": "PEMsiu3OyHyi",
        "colab_type": "text"
      },
      "source": [
        "## ***CONVULUTION NEURAL NETWORK IMPLEMENTATION WITHOUT FRAMEWORKS***"
      ]
    },
    {
      "cell_type": "code",
      "metadata": {
        "id": "Jjjv_8_EoR8u",
        "colab_type": "code",
        "colab": {}
      },
      "source": [
        "import numpy as np\n",
        "import matplotlib.pyplot as plt\n"
      ],
      "execution_count": 0,
      "outputs": []
    },
    {
      "cell_type": "markdown",
      "metadata": {
        "id": "KaoHF02uyhPH",
        "colab_type": "text"
      },
      "source": [
        "**ZEOR PADDING USING NUMPY**"
      ]
    },
    {
      "cell_type": "code",
      "metadata": {
        "id": "tfaNo5YpoYJE",
        "colab_type": "code",
        "colab": {
          "base_uri": "https://localhost:8080/",
          "height": 298
        },
        "outputId": "5a43966d-cfdc-414b-faf4-b127041838b7"
      },
      "source": [
        "x=np.random.randn(4,3,3,2)\n",
        "fig, axarr = plt.subplots(2,1)\n",
        "axarr[0].set_title('x')\n",
        "axarr[0].imshow(x[3,:,:,0])\n",
        "def zero_pad(x,pad):\n",
        "  x_pad=np.pad(x,((0,0),(2,2),(2,2),(0,0)),mode='constant',constant_values=(0,0))\n",
        "  return x_pad\n",
        "axarr[1].imshow(x_pad[3,:,:,0])"
      ],
      "execution_count": 31,
      "outputs": [
        {
          "output_type": "execute_result",
          "data": {
            "text/plain": [
              "<matplotlib.image.AxesImage at 0x7f32bd47a908>"
            ]
          },
          "metadata": {
            "tags": []
          },
          "execution_count": 31
        },
        {
          "output_type": "display_data",
          "data": {
            "image/png": "[encoded data removed]",
            "text/plain": [
              "<Figure size 432x288 with 2 Axes>"
            ]
          },
          "metadata": {
            "tags": [],
            "needs_background": "light"
          }
        }
      ]
    },
    {
      "cell_type": "markdown",
      "metadata": {
        "id": "eBvpM_DAyt_9",
        "colab_type": "text"
      },
      "source": [
        "**CONVOLUTION SINGLE STEP**"
      ]
    },
    {
      "cell_type": "code",
      "metadata": {
        "id": "Fff3RHcquWha",
        "colab_type": "code",
        "colab": {}
      },
      "source": [
        "def conv_single_step(a_slice_prev,W,b):\n",
        "  s=np.multiply(a_slice_prev,W)\n",
        "  Z=np.sum(s)\n",
        "  Z+=b\n",
        "  return Z"
      ],
      "execution_count": 0,
      "outputs": []
    },
    {
      "cell_type": "code",
      "metadata": {
        "id": "wVeqEhC-rCtF",
        "colab_type": "code",
        "colab": {
          "base_uri": "https://localhost:8080/",
          "height": 34
        },
        "outputId": "9226ce59-fc22-4117-9843-abbfce015475"
      },
      "source": [
        "np.random.seed(1)\n",
        "a_slice_prev = np.random.randn(4, 4, 3)\n",
        "W = np.random.randn(4, 4, 3)\n",
        "b = np.random.randn(1, 1, 1)\n",
        "\n",
        "Z = conv_single_step(a_slice_prev, W, b)\n",
        "print(\"Z =\", Z)\n"
      ],
      "execution_count": 24,
      "outputs": [
        {
          "output_type": "stream",
          "text": [
            "Z = [[[-6.99908945]]]\n"
          ],
          "name": "stdout"
        }
      ]
    },
    {
      "cell_type": "markdown",
      "metadata": {
        "id": "E18Z4mLxyvwS",
        "colab_type": "text"
      },
      "source": [
        "**CONVOLUTION FORWARD PROPAGATION**"
      ]
    },
    {
      "cell_type": "code",
      "metadata": {
        "id": "6UtbgaP9vJbK",
        "colab_type": "code",
        "colab": {}
      },
      "source": [
        "def conv_forward(A_prev,W,b,hparameters):\n",
        "  (m,n_H_prev,n_W_prev,n_C_prev)=A_prev.shape\n",
        "  (f,f,n_C_prev,n_C)=W.shape\n",
        "  stride = hparameters['stride']\n",
        "  pad = hparameters['pad']\n",
        "  n_H = int((n_H_prev - f + 2 * pad) / stride) + 1\n",
        "  n_W = int((n_W_prev - f + 2 * pad) / stride) + 1\n",
        "    \n",
        "    \n",
        "  Z = np.zeros((m, n_H, n_W, n_C))\n",
        "    \n",
        "    \n",
        "  A_prev_pad = zero_pad(A_prev, pad)\n",
        "    \n",
        "  for i in range(m):               \n",
        "      a_prev_pad = A_prev_pad[i]              \n",
        "      for h in range(n_H):           \n",
        "            \n",
        "          vert_start = h * stride\n",
        "          vert_end = vert_start + f\n",
        "          for w in range(n_W):       \n",
        "                \n",
        "              horiz_start = w * stride\n",
        "              horiz_end = horiz_start + f\n",
        "                \n",
        "              for c in range(n_C):   \n",
        "                                        \n",
        "                   \n",
        "                  a_slice_prev = a_prev_pad[vert_start:vert_end, horiz_start:horiz_end, :]\n",
        "                    \n",
        "                    \n",
        "                  weights = W[...,c]\n",
        "                  biases =  b[...,c]\n",
        "                  Z[i, h, w, c] = conv_single_step(a_slice_prev,weights, biases)\n",
        "                                        \n",
        "   \n",
        "  assert(Z.shape == (m, n_H, n_W, n_C))\n",
        "    \n",
        "    \n",
        "  cache = (A_prev, W, b, hparameters)\n",
        "    \n",
        "  return Z, cache\n"
      ],
      "execution_count": 0,
      "outputs": []
    },
    {
      "cell_type": "code",
      "metadata": {
        "id": "P0gaSrv2vQql",
        "colab_type": "code",
        "colab": {
          "base_uri": "https://localhost:8080/",
          "height": 134
        },
        "outputId": "88e914b9-7c90-4fc3-ad56-10c908fce8ff"
      },
      "source": [
        "np.random.seed(1)\n",
        "A_prev = np.random.randn(10,5,7,4)\n",
        "W = np.random.randn(3,3,4,8)\n",
        "b = np.random.randn(1,1,1,8)\n",
        "hparameters = {\"pad\" : 1,\n",
        "               \"stride\": 2}\n",
        "\n",
        "Z, cache_conv = conv_forward(A_prev, W, b, hparameters)\n",
        "print(\"Z's mean =\\n\", np.mean(Z))\n",
        "print(\"Z[3,2,1] =\\n\", Z[3,2,1])\n",
        "print(\"cache_conv[0][1][2][3] =\\n\", cache_conv[0][1][2][3])"
      ],
      "execution_count": 33,
      "outputs": [
        {
          "output_type": "stream",
          "text": [
            "Z's mean =\n",
            " 0.24412669714289048\n",
            "Z[3,2,1] =\n",
            " [ 5.33794981 -3.55347427  3.62691454  6.11363101 -5.85480522 -9.80766324\n",
            "  8.21479629 -4.97798512]\n",
            "cache_conv[0][1][2][3] =\n",
            " [-1.1191154   1.9560789  -0.3264995  -1.34267579]\n"
          ],
          "name": "stdout"
        }
      ]
    },
    {
      "cell_type": "markdown",
      "metadata": {
        "id": "6a-3aG0cyw_F",
        "colab_type": "text"
      },
      "source": [
        "**POOLING**"
      ]
    },
    {
      "cell_type": "code",
      "metadata": {
        "id": "Bm2aJXEAxRl2",
        "colab_type": "code",
        "colab": {}
      },
      "source": [
        "def pool_forward(A_prev, hparameters, mode = \"max\"):\n",
        "    \n",
        "    (m, n_H_prev, n_W_prev, n_C_prev) = A_prev.shape\n",
        "    \n",
        "    f = hparameters[\"f\"]\n",
        "    stride = hparameters[\"stride\"]\n",
        "    \n",
        "    n_H = int(1 + (n_H_prev - f) / stride)\n",
        "    n_W = int(1 + (n_W_prev - f) / stride)\n",
        "    n_C = n_C_prev\n",
        "    \n",
        "    A = np.zeros((m, n_H, n_W, n_C))              \n",
        "    \n",
        "    for i in range(m):                         \n",
        "        for h in range(n_H): \n",
        "            for w in range(n_W):\n",
        "                for c in range (n_C): \n",
        "                    vert_start = h * stride\n",
        "                    vert_end = vert_start + f\n",
        "                    \n",
        "                    horiz_start = w * stride\n",
        "                    horiz_end = horiz_start + f\n",
        "                \n",
        "                           \n",
        "                    a_prev_slice = A_prev[i, vert_start:vert_end, horiz_start:horiz_end, c]\n",
        "                    \n",
        "                    \n",
        "                    if mode == \"max\":\n",
        "                        A[i, h, w, c] = np.max(a_prev_slice)\n",
        "                    elif mode == \"average\":\n",
        "                        A[i, h, w, c] = np.mean(a_prev_slice)\n",
        "    \n",
        "    \n",
        "    cache = (A_prev, hparameters)\n",
        "    \n",
        "    \n",
        "    assert(A.shape == (m, n_H, n_W, n_C))\n",
        "    \n",
        "    return A, cache"
      ],
      "execution_count": 0,
      "outputs": []
    },
    {
      "cell_type": "code",
      "metadata": {
        "id": "g0zx7pyMxU4x",
        "colab_type": "code",
        "colab": {
          "base_uri": "https://localhost:8080/",
          "height": 941
        },
        "outputId": "f1d116ca-1674-438d-999f-1d2b3b587ed9"
      },
      "source": [
        "np.random.seed(1)\n",
        "A_prev = np.random.randn(2, 5, 5, 3)\n",
        "hparameters = {\"stride\" : 1, \"f\": 3}\n",
        "\n",
        "A, cache = pool_forward(A_prev, hparameters)\n",
        "print(\"mode = max\")\n",
        "print(\"A.shape = \" + str(A.shape))\n",
        "print(\"A =\\n\", A)\n",
        "print()\n",
        "A, cache = pool_forward(A_prev, hparameters, mode = \"average\")\n",
        "print(\"mode = average\")\n",
        "print(\"A.shape = \" + str(A.shape))\n",
        "print(\"A =\\n\", A)"
      ],
      "execution_count": 35,
      "outputs": [
        {
          "output_type": "stream",
          "text": [
            "mode = max\n",
            "A.shape = (2, 3, 3, 3)\n",
            "A =\n",
            " [[[[1.74481176 0.90159072 1.65980218]\n",
            "   [1.74481176 1.46210794 1.65980218]\n",
            "   [1.74481176 1.6924546  1.65980218]]\n",
            "\n",
            "  [[1.14472371 0.90159072 2.10025514]\n",
            "   [1.14472371 0.90159072 1.65980218]\n",
            "   [1.14472371 1.6924546  1.65980218]]\n",
            "\n",
            "  [[1.13162939 1.51981682 2.18557541]\n",
            "   [1.13162939 1.51981682 2.18557541]\n",
            "   [1.13162939 1.6924546  2.18557541]]]\n",
            "\n",
            "\n",
            " [[[1.19891788 0.84616065 0.82797464]\n",
            "   [0.69803203 0.84616065 1.2245077 ]\n",
            "   [0.69803203 1.12141771 1.2245077 ]]\n",
            "\n",
            "  [[1.96710175 0.84616065 1.27375593]\n",
            "   [1.96710175 0.84616065 1.23616403]\n",
            "   [1.62765075 1.12141771 1.2245077 ]]\n",
            "\n",
            "  [[1.96710175 0.86888616 1.27375593]\n",
            "   [1.96710175 0.86888616 1.23616403]\n",
            "   [1.62765075 1.12141771 0.79280687]]]]\n",
            "\n",
            "mode = average\n",
            "A.shape = (2, 3, 3, 3)\n",
            "A =\n",
            " [[[[-3.01046719e-02 -3.24021315e-03 -3.36298859e-01]\n",
            "   [ 1.43310483e-01  1.93146751e-01 -4.44905196e-01]\n",
            "   [ 1.28934436e-01  2.22428468e-01  1.25067597e-01]]\n",
            "\n",
            "  [[-3.81801899e-01  1.59993515e-02  1.70562706e-01]\n",
            "   [ 4.73707165e-02  2.59244658e-02  9.20338402e-02]\n",
            "   [ 3.97048605e-02  1.57189094e-01  3.45302489e-01]]\n",
            "\n",
            "  [[-3.82680519e-01  2.32579951e-01  6.25997903e-01]\n",
            "   [-2.47157416e-01 -3.48524998e-04  3.50539717e-01]\n",
            "   [-9.52551510e-02  2.68511000e-01  4.66056368e-01]]]\n",
            "\n",
            "\n",
            " [[[-1.73134159e-01  3.23771981e-01 -3.43175716e-01]\n",
            "   [ 3.80634669e-02  7.26706274e-02 -2.30268958e-01]\n",
            "   [ 2.03009393e-02  1.41414785e-01 -1.23158476e-02]]\n",
            "\n",
            "  [[ 4.44976963e-01 -2.61694592e-03 -3.10403073e-01]\n",
            "   [ 5.08114737e-01 -2.34937338e-01 -2.39611830e-01]\n",
            "   [ 1.18726772e-01  1.72552294e-01 -2.21121966e-01]]\n",
            "\n",
            "  [[ 4.29449255e-01  8.44699612e-02 -2.72909051e-01]\n",
            "   [ 6.76351685e-01 -1.20138225e-01 -2.44076712e-01]\n",
            "   [ 1.50774518e-01  2.89111751e-01  1.23238536e-03]]]]\n"
          ],
          "name": "stdout"
        }
      ]
    }
  ]
}